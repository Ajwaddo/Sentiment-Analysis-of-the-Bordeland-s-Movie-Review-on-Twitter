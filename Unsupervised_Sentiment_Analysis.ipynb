{
  "nbformat": 4,
  "nbformat_minor": 0,
  "metadata": {
    "colab": {
      "provenance": []
    },
    "kernelspec": {
      "name": "python3",
      "display_name": "Python 3"
    },
    "language_info": {
      "name": "python"
    }
  },
  "cells": [
    {
      "cell_type": "code",
      "execution_count": 66,
      "metadata": {
        "id": "vcrlBVuzzdmR"
      },
      "outputs": [],
      "source": [
        "import pandas as pd\n",
        "import re\n",
        "import string\n",
        "from nltk.corpus import stopwords\n",
        "from nltk.stem import WordNetLemmatizer\n",
        "from sklearn.feature_extraction.text import TfidfVectorizer\n",
        "from sklearn.decomposition import TruncatedSVD\n",
        "from sklearn.cluster import KMeans\n",
        "from sklearn.metrics import silhouette_score\n",
        "from nltk.sentiment.vader import SentimentIntensityAnalyzer\n",
        "import matplotlib.pyplot as plt\n",
        "import seaborn as sns\n",
        "import nltk"
      ]
    },
    {
      "cell_type": "code",
      "source": [
        "nltk.download('stopwords')\n",
        "nltk.download('wordnet')\n",
        "nltk.download('omw-1.4') # Open Multilingual Wordnet\n",
        "nltk.download('vader_lexicon') # Lexicon for VADER sentiment analysis"
      ],
      "metadata": {
        "colab": {
          "base_uri": "https://localhost:8080/"
        },
        "id": "cAR0llb-zxMp",
        "outputId": "abda7992-7fce-4fe6-df36-0c4291304018"
      },
      "execution_count": 2,
      "outputs": [
        {
          "output_type": "stream",
          "name": "stderr",
          "text": [
            "[nltk_data] Downloading package stopwords to /root/nltk_data...\n",
            "[nltk_data]   Package stopwords is already up-to-date!\n",
            "[nltk_data] Downloading package wordnet to /root/nltk_data...\n",
            "[nltk_data]   Package wordnet is already up-to-date!\n",
            "[nltk_data] Downloading package omw-1.4 to /root/nltk_data...\n",
            "[nltk_data]   Package omw-1.4 is already up-to-date!\n",
            "[nltk_data] Downloading package vader_lexicon to /root/nltk_data...\n",
            "[nltk_data]   Package vader_lexicon is already up-to-date!\n"
          ]
        },
        {
          "output_type": "execute_result",
          "data": {
            "text/plain": [
              "True"
            ]
          },
          "metadata": {},
          "execution_count": 2
        }
      ]
    },
    {
      "cell_type": "code",
      "source": [
        "# Define column names based on the dataset's apparent structure\n",
        "column_names = ['Tweet_ID', 'Entity', 'Sentiment', 'Tweet_Text']"
      ],
      "metadata": {
        "id": "hvgUee-H2yQt"
      },
      "execution_count": 3,
      "outputs": []
    },
    {
      "cell_type": "code",
      "source": [
        "file_path = 'twitter_training.csv'"
      ],
      "metadata": {
        "id": "LQ5g2Q7a2neY"
      },
      "execution_count": 4,
      "outputs": []
    },
    {
      "cell_type": "code",
      "source": [
        "# Load the dataset, skipping the first row and providing the column names\n",
        "try:\n",
        "    df_train = pd.read_csv(file_path, header=None, names=column_names, skiprows=1)\n",
        "    print(f\"\\nDataset '{file_path}' loaded successfully by skipping the first row and assigning custom headers.\")\n",
        "except FileNotFoundError:\n",
        "    print(f\"\\nError: '{file_path}' not found. Please ensure the file is uploaded directly to the Colab session storage.\")\n",
        "    # Exit or handle the error appropriately if the file isn't found\n",
        "    import sys\n",
        "    sys.exit(\"Exiting due to file not found error.\")"
      ],
      "metadata": {
        "colab": {
          "base_uri": "https://localhost:8080/"
        },
        "id": "9LkU9deAz7bR",
        "outputId": "8d00f09f-07af-4eb8-a13f-efb79dabcb7d"
      },
      "execution_count": 5,
      "outputs": [
        {
          "output_type": "stream",
          "name": "stdout",
          "text": [
            "\n",
            "Dataset 'twitter_training.csv' loaded successfully by skipping the first row and assigning custom headers.\n"
          ]
        }
      ]
    },
    {
      "cell_type": "code",
      "source": [
        "print(\"\\n2.1: First 5 rows of the dataset\")\n",
        "print(df_train.head())"
      ],
      "metadata": {
        "colab": {
          "base_uri": "https://localhost:8080/"
        },
        "id": "ETo5MMNU0Pq3",
        "outputId": "abac8229-a2e0-4028-d0c5-781376a59981"
      },
      "execution_count": 64,
      "outputs": [
        {
          "output_type": "stream",
          "name": "stdout",
          "text": [
            "\n",
            "2.1: First 5 rows of the dataset\n",
            "   Tweet_ID       Entity Sentiment  \\\n",
            "0      2401  Borderlands  Positive   \n",
            "1      2401  Borderlands  Positive   \n",
            "2      2401  Borderlands  Positive   \n",
            "3      2401  Borderlands  Positive   \n",
            "4      2401  Borderlands  Positive   \n",
            "\n",
            "                                          Tweet_Text  \n",
            "0  I am coming to the borders and I will kill you...  \n",
            "1  im getting on borderlands and i will kill you ...  \n",
            "2  im coming on borderlands and i will murder you...  \n",
            "3  im getting on borderlands 2 and i will murder ...  \n",
            "4  im getting into borderlands and i can murder y...  \n"
          ]
        }
      ]
    },
    {
      "cell_type": "code",
      "source": [
        "print(\"\\n2.2: Dataset Information (Columns, Non-Null Counts, Dtypes)\")\n",
        "print(df_train.info())"
      ],
      "metadata": {
        "colab": {
          "base_uri": "https://localhost:8080/"
        },
        "id": "y9erKP-k0crK",
        "outputId": "01b5827b-48a2-41ec-c02c-c69205b86cae"
      },
      "execution_count": 63,
      "outputs": [
        {
          "output_type": "stream",
          "name": "stdout",
          "text": [
            "\n",
            "2.2: Dataset Information (Columns, Non-Null Counts, Dtypes)\n",
            "<class 'pandas.core.frame.DataFrame'>\n",
            "Index: 73995 entries, 0 to 74680\n",
            "Data columns (total 4 columns):\n",
            " #   Column      Non-Null Count  Dtype \n",
            "---  ------      --------------  ----- \n",
            " 0   Tweet_ID    73995 non-null  int64 \n",
            " 1   Entity      73995 non-null  object\n",
            " 2   Sentiment   73995 non-null  object\n",
            " 3   Tweet_Text  73995 non-null  object\n",
            "dtypes: int64(1), object(3)\n",
            "memory usage: 2.8+ MB\n",
            "None\n"
          ]
        }
      ]
    },
    {
      "cell_type": "markdown",
      "source": [
        "Section 3: Data Cleaning and Filtering for Problem Statement"
      ],
      "metadata": {
        "id": "aHZBoIJr0qCY"
      }
    },
    {
      "cell_type": "code",
      "source": [
        "print(\"\\n3.1: Missing values count per column (before cleaning)\")\n",
        "print(df_train.isnull().sum())"
      ],
      "metadata": {
        "colab": {
          "base_uri": "https://localhost:8080/"
        },
        "id": "tUVw79AE0sg_",
        "outputId": "d1e88fa6-0f12-4a9d-89d3-d43452bf492e"
      },
      "execution_count": 8,
      "outputs": [
        {
          "output_type": "stream",
          "name": "stdout",
          "text": [
            "\n",
            "3.1: Missing values count per column (before cleaning)\n",
            "Tweet_ID        0\n",
            "Entity          0\n",
            "Sentiment       0\n",
            "Tweet_Text    686\n",
            "dtype: int64\n"
          ]
        }
      ]
    },
    {
      "cell_type": "code",
      "source": [
        "# Drop rows where 'Tweet_Text' is NaN (missing), as they cannot be analyzed for sentiment.\n",
        "df_train.dropna(subset=['Tweet_Text'], inplace=True)\n",
        "print(\"\\n3.2: Missing values after dropping rows with null 'Tweet_Text' \")\n",
        "print(df_train.isnull().sum())\n",
        "print(f\"Dataset shape after dropping nulls: {df_train.shape}\")"
      ],
      "metadata": {
        "colab": {
          "base_uri": "https://localhost:8080/"
        },
        "id": "FWardAsA0xYL",
        "outputId": "bea6f1c2-74bd-4f86-c108-5020a7fb50f9"
      },
      "execution_count": 9,
      "outputs": [
        {
          "output_type": "stream",
          "name": "stdout",
          "text": [
            "\n",
            "3.2: Missing values after dropping rows with null 'Tweet_Text' \n",
            "Tweet_ID      0\n",
            "Entity        0\n",
            "Sentiment     0\n",
            "Tweet_Text    0\n",
            "dtype: int64\n",
            "Dataset shape after dropping nulls: (73995, 4)\n"
          ]
        }
      ]
    },
    {
      "cell_type": "code",
      "source": [
        "# Analyze the overall sentiment distribution\n",
        "print(\"\\n3.3: Overall Sentiment Distribution in the training dataset\")\n",
        "print(df_train['Sentiment'].value_counts())\n",
        "print(\"\\n3.4: Overall Sentiment Distribution as Percentage\")\n",
        "print(df_train['Sentiment'].value_counts(normalize=True) * 100)"
      ],
      "metadata": {
        "colab": {
          "base_uri": "https://localhost:8080/"
        },
        "id": "fD-IOISw3BQF",
        "outputId": "22f32b5e-fee6-4895-efe9-2646c8d7c9ed"
      },
      "execution_count": 10,
      "outputs": [
        {
          "output_type": "stream",
          "name": "stdout",
          "text": [
            "\n",
            "3.3: Overall Sentiment Distribution in the training dataset\n",
            "Sentiment\n",
            "Negative      22358\n",
            "Positive      20654\n",
            "Neutral       18108\n",
            "Irrelevant    12875\n",
            "Name: count, dtype: int64\n",
            "\n",
            "3.4: Overall Sentiment Distribution as Percentage\n",
            "Sentiment\n",
            "Negative      30.215555\n",
            "Positive      27.912697\n",
            "Neutral       24.471924\n",
            "Irrelevant    17.399824\n",
            "Name: proportion, dtype: float64\n"
          ]
        }
      ]
    },
    {
      "cell_type": "code",
      "source": [
        "# Filter the dataset to include only tweets specifically related to 'Borderlands'.\n",
        "# This directly addresses your assignment's problem statement.\n",
        "# We use .copy() to avoid SettingWithCopyWarning in future operations.\n",
        "borderlands_df = df_train[df_train['Entity'].str.contains('Borderlands', case=False, na=False)].copy()"
      ],
      "metadata": {
        "id": "jrS5192j3J3a"
      },
      "execution_count": 11,
      "outputs": []
    },
    {
      "cell_type": "code",
      "source": [
        "borderlands_df.reset_index(drop=True, inplace=True)"
      ],
      "metadata": {
        "id": "L_1xcbRa-Kko"
      },
      "execution_count": 12,
      "outputs": []
    },
    {
      "cell_type": "code",
      "source": [
        "print(f\"\\n3.5: Shape of 'Borderlands' specific dataset: {borderlands_df.shape}\")\n",
        "print(\"\\n3.6: First 5 rows of 'Borderlands' specific dataset\")\n",
        "print(borderlands_df.head())"
      ],
      "metadata": {
        "colab": {
          "base_uri": "https://localhost:8080/"
        },
        "id": "CRwq-pZG3Pj_",
        "outputId": "9323da56-0530-4e89-ca34-1b27d7cf2771"
      },
      "execution_count": 60,
      "outputs": [
        {
          "output_type": "stream",
          "name": "stdout",
          "text": [
            "\n",
            "3.5: Shape of 'Borderlands' specific dataset: (2039, 7)\n",
            "\n",
            "3.6: First 5 rows of 'Borderlands' specific dataset\n",
            "   Tweet_ID       Entity Sentiment  \\\n",
            "0      2401  Borderlands  Positive   \n",
            "1      2401  Borderlands  Positive   \n",
            "2      2401  Borderlands  Positive   \n",
            "3      2401  Borderlands  Positive   \n",
            "4      2401  Borderlands  Positive   \n",
            "\n",
            "                                          Tweet_Text  \\\n",
            "0  I am coming to the borders and I will kill you...   \n",
            "1  im getting on borderlands and i will kill you ...   \n",
            "2  im coming on borderlands and i will murder you...   \n",
            "3  im getting on borderlands 2 and i will murder ...   \n",
            "4  im getting into borderlands and i can murder y...   \n",
            "\n",
            "             Cleaned_Tweet_Text VADER_Sentiment  Cluster  \n",
            "0            coming border kill        Negative        0  \n",
            "1    im getting borderland kill        Negative        0  \n",
            "2   im coming borderland murder        Negative        0  \n",
            "3  im getting borderland murder        Negative        0  \n",
            "4  im getting borderland murder        Negative        0  \n"
          ]
        }
      ]
    },
    {
      "cell_type": "code",
      "source": [
        "print(\"\\n3.7: Sentiment Distribution for 'Borderlands' tweets\")\n",
        "print(borderlands_df['Sentiment'].value_counts())\n",
        "print(\"\\n3.8: Sentiment Distribution as Percentage for 'Borderlands' tweets\")\n",
        "print(borderlands_df['Sentiment'].value_counts(normalize=True) * 100)"
      ],
      "metadata": {
        "colab": {
          "base_uri": "https://localhost:8080/"
        },
        "id": "qcAm-rZA3WV2",
        "outputId": "82500704-b2d7-4571-bb87-f4d5e21f1081"
      },
      "execution_count": 62,
      "outputs": [
        {
          "output_type": "stream",
          "name": "stdout",
          "text": [
            "\n",
            "3.7: Sentiment Distribution for 'Borderlands' tweets\n",
            "Sentiment\n",
            "Positive    1016\n",
            "Neutral      597\n",
            "Negative     426\n",
            "Name: count, dtype: int64\n",
            "\n",
            "3.8: Sentiment Distribution as Percentage for 'Borderlands' tweets\n",
            "Sentiment\n",
            "Positive    49.828347\n",
            "Neutral     29.279058\n",
            "Negative    20.892594\n",
            "Name: proportion, dtype: float64\n"
          ]
        }
      ]
    },
    {
      "cell_type": "code",
      "source": [
        "# Ensure only 'Positive', 'Negative', 'Neutral' sentiments are kept, aligning with the problem statement.\n",
        "valid_sentiments = ['Positive', 'Negative', 'Neutral']\n",
        "borderlands_df = borderlands_df[borderlands_df['Sentiment'].isin(valid_sentiments)].copy()\n",
        "print(f\"\\n3.9: Shape after ensuring only Positive/Negative/Neutral sentiments: {borderlands_df.shape}\")"
      ],
      "metadata": {
        "colab": {
          "base_uri": "https://localhost:8080/"
        },
        "id": "TomzHukY3YQw",
        "outputId": "43e1d98e-7c6a-4bf2-a62d-e71f5aa591b9"
      },
      "execution_count": 61,
      "outputs": [
        {
          "output_type": "stream",
          "name": "stdout",
          "text": [
            "\n",
            "3.9: Shape after ensuring only Positive/Negative/Neutral sentiments: (2039, 7)\n"
          ]
        }
      ]
    },
    {
      "cell_type": "markdown",
      "source": [
        "Section 4: Text Preprocessing for Sentiment Analysis"
      ],
      "metadata": {
        "id": "TmUljrmm3msN"
      }
    },
    {
      "cell_type": "code",
      "source": [
        "lemmatizer = WordNetLemmatizer()\n",
        "stop_words = set(stopwords.words('english'))"
      ],
      "metadata": {
        "id": "OEp1XklU3oBu"
      },
      "execution_count": 16,
      "outputs": []
    },
    {
      "cell_type": "code",
      "source": [
        "def preprocess_text(text):\n",
        "    \"\"\"\n",
        "    Cleans and preprocesses tweet text.\n",
        "    Handles lowercasing, URL/mention/hashtag removal, punctuation, numbers,\n",
        "    emojis (basic removal), stopwords, and lemmatization.\n",
        "    This process is essential for preparing noisy social media data for analysis.\n",
        "    \"\"\"\n",
        "    # 1. Lowercasing\n",
        "    text = text.lower()\n",
        "\n",
        "    # 2. Remove URLs (http/https links)\n",
        "    text = re.sub(r'http\\S+|www\\S+|https\\S+', '', text, flags=re.MULTILINE)\n",
        "\n",
        "    # 3. Remove mentions (@username)\n",
        "    text = re.sub(r'@\\w+', '', text)\n",
        "\n",
        "    # 4. Remove hashtags (#hashtag) - keeping text for now as sentiment might be in them.\n",
        "    text = re.sub(r'#', '', text)\n",
        "\n",
        "    # 5. Remove punctuation\n",
        "    text = text.translate(str.maketrans('', '', string.punctuation))\n",
        "\n",
        "    # 6. Remove numbers\n",
        "    text = re.sub(r'\\d+', '', text)\n",
        "\n",
        "    # 7. Remove emojis (basic removal)\n",
        "    emoji_pattern = re.compile(\n",
        "        \"[\"\n",
        "        \"\\U0001F600-\\U0001F64F\"  # emoticons\n",
        "        \"\\U0001F300-\\U0001F5FF\"  # symbols & pictographs\n",
        "        \"\\U0001F680-\\U0001F6FF\"  # transport & map symbols\n",
        "        \"\\U0001F1E0-\\U0001F1FF\"  # flags (iOS)\n",
        "        \"\\U00002702-\\U000027B0\"\n",
        "        \"\\U000024C2-\\U0001F251\"\n",
        "        \"]+\", flags=re.UNICODE\n",
        "    )\n",
        "    text = emoji_pattern.sub(r'', text)\n",
        "\n",
        "    # 8. Remove extra whitespace\n",
        "    text = re.sub(r'\\s+', ' ', text).strip()\n",
        "\n",
        "    # 9. Remove stopwords\n",
        "    # Tokenize the text first to remove stopwords effectively\n",
        "    tokens = text.split()\n",
        "    tokens = [word for word in tokens if word not in stop_words]\n",
        "    text = ' '.join(tokens)\n",
        "\n",
        "    # 10. Lemmatization\n",
        "    tokens = text.split()\n",
        "    tokens = [lemmatizer.lemmatize(word) for word in tokens]\n",
        "    text = ' '.join(tokens)\n",
        "\n",
        "    return text"
      ],
      "metadata": {
        "id": "LNCF3wJt3rFe"
      },
      "execution_count": 17,
      "outputs": []
    },
    {
      "cell_type": "code",
      "source": [
        "print(\"\\n4.1: Applying text preprocessing to 'Tweet_Text' column\")\n",
        "borderlands_df['Cleaned_Tweet_Text'] = borderlands_df['Tweet_Text'].apply(preprocess_text)"
      ],
      "metadata": {
        "colab": {
          "base_uri": "https://localhost:8080/"
        },
        "id": "l_U-jO8g39w0",
        "outputId": "65a95daa-0087-47e7-ff44-9f64307ee979"
      },
      "execution_count": 57,
      "outputs": [
        {
          "output_type": "stream",
          "name": "stdout",
          "text": [
            "\n",
            "4.1: Applying text preprocessing to 'Tweet_Text' column\n"
          ]
        }
      ]
    },
    {
      "cell_type": "code",
      "source": [
        "print(\"\\n4.2: Original vs. Cleaned Tweets Sample\")\n",
        "for i in range(5):\n",
        "    print(f\"Original: {borderlands_df['Tweet_Text'].iloc[i]}\")\n",
        "    print(f\"Cleaned:  {borderlands_df['Cleaned_Tweet_Text'].iloc[i]}\\n\")"
      ],
      "metadata": {
        "colab": {
          "base_uri": "https://localhost:8080/"
        },
        "id": "T2t8y8Bk4Ify",
        "outputId": "a766d6a9-7955-4146-bfd6-707ea67e33ad"
      },
      "execution_count": 58,
      "outputs": [
        {
          "output_type": "stream",
          "name": "stdout",
          "text": [
            "\n",
            "4.2: Original vs. Cleaned Tweets Sample\n",
            "Original: I am coming to the borders and I will kill you all,\n",
            "Cleaned:  coming border kill\n",
            "\n",
            "Original: im getting on borderlands and i will kill you all,\n",
            "Cleaned:  im getting borderland kill\n",
            "\n",
            "Original: im coming on borderlands and i will murder you all,\n",
            "Cleaned:  im coming borderland murder\n",
            "\n",
            "Original: im getting on borderlands 2 and i will murder you me all,\n",
            "Cleaned:  im getting borderland murder\n",
            "\n",
            "Original: im getting into borderlands and i can murder you all,\n",
            "Cleaned:  im getting borderland murder\n",
            "\n"
          ]
        }
      ]
    },
    {
      "cell_type": "markdown",
      "source": [
        "Section 5: Unsupervised Sentiment Analysis (Lexicon-Based Approach)"
      ],
      "metadata": {
        "id": "D-ygLDO05bew"
      }
    },
    {
      "cell_type": "code",
      "source": [
        "analyzer = SentimentIntensityAnalyzer()"
      ],
      "metadata": {
        "id": "jL6W26Ca5ccv"
      },
      "execution_count": 20,
      "outputs": []
    },
    {
      "cell_type": "code",
      "source": [
        "def get_vader_sentiment(text):\n",
        "    \"\"\"\n",
        "    Applies VADER sentiment intensity analyzer to get a compound sentiment score.\n",
        "    Maps the compound score to 'Positive', 'Negative', or 'Neutral' categories.\n",
        "    \"\"\"\n",
        "    vs = analyzer.polarity_scores(text)\n",
        "    compound_score = vs['compound']\n",
        "    if compound_score >= 0.05:\n",
        "        return 'Positive'\n",
        "    elif compound_score <= -0.05:\n",
        "        return 'Negative'\n",
        "    else:\n",
        "        return 'Neutral'"
      ],
      "metadata": {
        "id": "orWLGxOI6Aa1"
      },
      "execution_count": 21,
      "outputs": []
    },
    {
      "cell_type": "code",
      "source": [
        "print(\"\\n5.1: Applying VADER Sentiment Analysis\")\n",
        "borderlands_df['VADER_Sentiment'] = borderlands_df['Cleaned_Tweet_Text'].apply(get_vader_sentiment)"
      ],
      "metadata": {
        "colab": {
          "base_uri": "https://localhost:8080/"
        },
        "id": "_CZqwNwR6GD0",
        "outputId": "52e35acd-276c-4471-a71f-2e9da0f66bf6"
      },
      "execution_count": 49,
      "outputs": [
        {
          "output_type": "stream",
          "name": "stdout",
          "text": [
            "\n",
            "5.1: Applying VADER Sentiment Analysis\n"
          ]
        }
      ]
    },
    {
      "cell_type": "code",
      "source": [
        "print(\"\\n5.2: VADER Sentiment Distribution for Borderlands tweets\")\n",
        "print(borderlands_df['VADER_Sentiment'].value_counts())\n",
        "print(\"\\n5.3: VADER Sentiment Distribution as Percentage\")\n",
        "print(borderlands_df['VADER_Sentiment'].value_counts(normalize=True) * 100)"
      ],
      "metadata": {
        "colab": {
          "base_uri": "https://localhost:8080/"
        },
        "id": "D9WKo2x16LYa",
        "outputId": "52e54ff9-67c9-4d10-e4f2-07cfafaf53ac"
      },
      "execution_count": 48,
      "outputs": [
        {
          "output_type": "stream",
          "name": "stdout",
          "text": [
            "\n",
            "5.2: VADER Sentiment Distribution for Borderlands tweets\n",
            "VADER_Sentiment\n",
            "Positive    1152\n",
            "Negative     554\n",
            "Neutral      333\n",
            "Name: count, dtype: int64\n",
            "\n",
            "5.3: VADER Sentiment Distribution as Percentage\n",
            "VADER_Sentiment\n",
            "Positive    56.498283\n",
            "Negative    27.170181\n",
            "Neutral     16.331535\n",
            "Name: proportion, dtype: float64\n"
          ]
        }
      ]
    },
    {
      "cell_type": "code",
      "source": [
        "print(\"\\n5.4: Comparison of VADER Sentiment with Original Labels\")\n",
        "if 'Sentiment' in borderlands_df.columns:\n",
        "    comparison_df = borderlands_df[['Sentiment', 'VADER_Sentiment']]\n",
        "    # Cross-tabulation can show how VADER's labels align with the original labels\n",
        "    print(pd.crosstab(comparison_df['Sentiment'], comparison_df['VADER_Sentiment']))\n",
        "else:\n",
        "    print(\"Original 'Sentiment' column not found for comparison.\")"
      ],
      "metadata": {
        "colab": {
          "base_uri": "https://localhost:8080/"
        },
        "id": "imIHTCEc6M7Y",
        "outputId": "d7ab23da-df90-415c-be26-cfe00b96e44a"
      },
      "execution_count": 56,
      "outputs": [
        {
          "output_type": "stream",
          "name": "stdout",
          "text": [
            "\n",
            "5.4: Comparison of VADER Sentiment with Original Labels\n",
            "VADER_Sentiment  Negative  Neutral  Positive\n",
            "Sentiment                                   \n",
            "Negative              224       74       128\n",
            "Neutral               179      122       296\n",
            "Positive              151      137       728\n"
          ]
        }
      ]
    },
    {
      "cell_type": "code",
      "source": [
        "plt.figure(figsize=(10, 6))\n",
        "sns.countplot(data=borderlands_df, x='VADER_Sentiment', order=['Positive', 'Neutral', 'Negative'], palette='viridis')\n",
        "plt.title('Sentiment Distribution of Borderlands Tweets (VADER Lexicon-Based)')\n",
        "plt.xlabel('Sentiment')\n",
        "plt.ylabel('Number of Tweets')\n",
        "plt.show()"
      ],
      "metadata": {
        "colab": {
          "base_uri": "https://localhost:8080/",
          "height": 669
        },
        "id": "ACkUezCu6VHF",
        "outputId": "3b6c4c18-7aa1-420f-c020-f18dc3bbedbd"
      },
      "execution_count": 25,
      "outputs": [
        {
          "output_type": "stream",
          "name": "stderr",
          "text": [
            "/tmp/ipython-input-25-4228127670.py:2: FutureWarning: \n",
            "\n",
            "Passing `palette` without assigning `hue` is deprecated and will be removed in v0.14.0. Assign the `x` variable to `hue` and set `legend=False` for the same effect.\n",
            "\n",
            "  sns.countplot(data=borderlands_df, x='VADER_Sentiment', order=['Positive', 'Neutral', 'Negative'], palette='viridis')\n"
          ]
        },
        {
          "output_type": "display_data",
          "data": {
            "text/plain": [
              "<Figure size 1000x600 with 1 Axes>"
            ],
            "image/png": "[encoded data removed]"
          },
          "metadata": {}
        }
      ]
    },
    {
      "cell_type": "markdown",
      "source": [
        "Section 6: Unsupervised Learning (Clustering with K-Means)"
      ],
      "metadata": {
        "id": "wI9ge-dB6fr6"
      }
    },
    {
      "cell_type": "code",
      "source": [
        "print(\"\\n6.1: Preparing data for Clustering (TF-IDF Vectorization)\")\n",
        "# Use the same TF-IDF vectorizer as before to represent text numerically\n",
        "tfidf_vectorizer_clustering = TfidfVectorizer(max_features=5000, min_df=5, sublinear_tf=True)\n",
        "X_clustering = tfidf_vectorizer_clustering.fit_transform(borderlands_df['Cleaned_Tweet_Text'])"
      ],
      "metadata": {
        "colab": {
          "base_uri": "https://localhost:8080/"
        },
        "id": "JevD40PT6b_-",
        "outputId": "284f82f5-2539-43e3-8cc6-aba6487094c9"
      },
      "execution_count": 50,
      "outputs": [
        {
          "output_type": "stream",
          "name": "stdout",
          "text": [
            "\n",
            "6.1: Preparing data for Clustering (TF-IDF Vectorization)\n"
          ]
        }
      ]
    },
    {
      "cell_type": "code",
      "source": [
        "print(f\"Shape of TF-IDF feature matrix for clustering: {X_clustering.shape}\")"
      ],
      "metadata": {
        "colab": {
          "base_uri": "https://localhost:8080/"
        },
        "id": "KXMm7iSN6lws",
        "outputId": "de907bea-2fab-4ef9-ba15-51008d396910"
      },
      "execution_count": 51,
      "outputs": [
        {
          "output_type": "stream",
          "name": "stdout",
          "text": [
            "Shape of TF-IDF feature matrix for clustering: (2039, 1260)\n"
          ]
        }
      ]
    },
    {
      "cell_type": "code",
      "source": [
        "num_clusters = 4"
      ],
      "metadata": {
        "id": "PZPbxTIp6o1m"
      },
      "execution_count": 42,
      "outputs": []
    },
    {
      "cell_type": "code",
      "source": [
        "print(f\"\\n6.2: Applying K-Means Clustering with K={num_clusters}\")\n",
        "kmeans_model = KMeans(n_clusters=num_clusters, init='k-means++', max_iter=300, n_init=10, random_state=42)\n",
        "borderlands_df['Cluster'] = kmeans_model.fit_predict(X_clustering)"
      ],
      "metadata": {
        "colab": {
          "base_uri": "https://localhost:8080/"
        },
        "id": "oIHzyeuQ6rwG",
        "outputId": "8ecbe6c4-5c13-48d0-881d-0ec28b3b7636"
      },
      "execution_count": 52,
      "outputs": [
        {
          "output_type": "stream",
          "name": "stdout",
          "text": [
            "\n",
            "6.2: Applying K-Means Clustering with K=4\n"
          ]
        }
      ]
    },
    {
      "cell_type": "code",
      "source": [
        "print(\"\\n6.3: Cluster Distribution\")\n",
        "print(borderlands_df['Cluster'].value_counts())"
      ],
      "metadata": {
        "colab": {
          "base_uri": "https://localhost:8080/"
        },
        "id": "lofN6nLG6um4",
        "outputId": "d9bd5a29-f8c4-4801-a489-773696dab718"
      },
      "execution_count": 53,
      "outputs": [
        {
          "output_type": "stream",
          "name": "stdout",
          "text": [
            "\n",
            "6.3: Cluster Distribution\n",
            "Cluster\n",
            "0    1294\n",
            "1     374\n",
            "3     323\n",
            "2      48\n",
            "Name: count, dtype: int64\n"
          ]
        }
      ]
    },
    {
      "cell_type": "code",
      "source": [
        "def get_top_terms_per_cluster(model, vectorizer, n_terms=10):\n",
        "    \"\"\"\n",
        "    Prints the top N terms for each cluster based on the cluster centers.\n",
        "\n",
        "    Args:\n",
        "        model (KMeans): The trained K-Means model.\n",
        "        vectorizer (TfidfVectorizer): The TF-IDF vectorizer used to transform the text.\n",
        "        n_terms (int): The number of top terms to display for each cluster.\n",
        "    \"\"\"\n",
        "    terms = vectorizer.get_feature_names_out()\n",
        "    print(f\"Displaying top {n_terms} keywords for each cluster based on cluster centroids:\")\n",
        "    for i, center in enumerate(model.cluster_centers_):\n",
        "        top_terms_idx = center.argsort()[-n_terms:][::-1] # Get indices of top terms\n",
        "        top_terms = [terms[idx] for idx in top_terms_idx] # Map indices to term names\n",
        "        print(f\"Cluster {i}\")\n",
        "        print(f\"Keywords: {', '.join(top_terms)}\")\n",
        "\n",
        "# Call the function with your trained KMeans model and TF-IDF vectorizer\n",
        "get_top_terms_per_cluster(kmeans_model, tfidf_vectorizer_clustering)"
      ],
      "metadata": {
        "colab": {
          "base_uri": "https://localhost:8080/"
        },
        "id": "KHng8Zkw9OTD",
        "outputId": "089845fd-2ecf-491c-aabb-f6889c9f96d2"
      },
      "execution_count": 54,
      "outputs": [
        {
          "output_type": "stream",
          "name": "stdout",
          "text": [
            "Displaying top 10 keywords for each cluster based on cluster centroids:\n",
            "Cluster 0\n",
            "Keywords: borderland, game, love, good, like, im, best, really, time, today\n",
            "Cluster 1\n",
            "Keywords: new, fun, dlc, borderland, work, one, happy, love, much, game\n",
            "Cluster 2\n",
            "Keywords: fuck, coming, bioshock, count, bitch, borderland, march, joke, somethin, remember\n",
            "Cluster 3\n",
            "Keywords: play, get, borderland, please, game, fix, cant, really, xbox, im\n"
          ]
        }
      ]
    },
    {
      "cell_type": "code",
      "source": [
        "# Higher silhouette score indicates better-defined clusters.\n",
        "if X_clustering.shape[0] > 1 and num_clusters > 1: # Ensure enough samples and clusters for score calculation\n",
        "    silhouette_avg = silhouette_score(X_clustering, borderlands_df['Cluster'])\n",
        "    print(f\"\\n6.4: Silhouette Score for K-Means: {silhouette_avg:.4f}\")\n",
        "else:\n",
        "    print(\"\\n6.4: Skipping Silhouette Score calculation (not enough samples/clusters)\")\n",
        "\n",
        "print(\"\\n6.5: Sample Tweets from each Cluster (for manual interpretation)\")\n",
        "for cluster_id in sorted(borderlands_df['Cluster'].unique()):\n",
        "    print(f\"\\nCluster {cluster_id} Samples\")\n",
        "    cluster_samples = borderlands_df[borderlands_df['Cluster'] == cluster_id]['Tweet_Text'].sample(min(5, len(borderlands_df[borderlands_df['Cluster'] == cluster_id])), random_state=42)\n",
        "    for sample_text in cluster_samples:\n",
        "        print(f\"- {sample_text}\")"
      ],
      "metadata": {
        "colab": {
          "base_uri": "https://localhost:8080/"
        },
        "id": "mmfp4sI464hy",
        "outputId": "b3490dbd-09d4-4769-8b9e-a59f561a4a14"
      },
      "execution_count": 55,
      "outputs": [
        {
          "output_type": "stream",
          "name": "stdout",
          "text": [
            "\n",
            "6.4: Silhouette Score for K-Means: 0.0163\n",
            "\n",
            "6.5: Sample Tweets from each Cluster (for manual interpretation)\n",
            "\n",
            "Cluster 0 Samples\n",
            "- A friendly reminder that the track Borderlands 3 is an absolute banger and this song is special is probably my favorite gag of the whole game... youtu.be / nFwAmB-tluI\n",
            "- <unk> bURn Bookmark tHe permalink <unk>.\n",
            "- Darth The Filius unlocked 1 official achievement app in Borderlands3 2018 and increased their gamerscore with 15 to 595 in to that game and 40029 total\n",
            "- I love u bro\n",
            "- The best gaming deals today: FIFA 20 $18, Borderlands Handsome $15, more - 9to5Toys uk.googlehits.com / as-we-speak-f...\n",
            "\n",
            "Cluster 1 Samples\n",
            "- Borderlands 3'′ s personal Lovecraft series DLC 2 Dismisses various Major Problems Associated With The Whole Author's Work snip. br ly / o24fq7? utm _ sou … for https://t.co/IGbpAJ3HzD ]\n",
            "- One of our shows own @ProfZeroo is live via w / at @borderlands 3 and [UNK].... Catch him here : the buff. ly / to 2WmmiP5.. to Say \" Streamer Shouts \" in chat for a chance to officially be in a series coming. @streamer_shouts 1 Shout Out...\n",
            "- Check<unk> this epic streamer!.\n",
            "- as Happy 4th of July!!!! Borderlands 3 Type of Night! twitch.tv/its_shadow2\n",
            "- What a night! I had heeps of fun playing Borderlands 2! We're getting closer and closer towards the end! . . After the stream we raided @ClocksyDraws ! What a amazing streamer with beautiful art pieces! Give him a follow if you don't already do! . . Goodnight!. .  \n",
            "\n",
            "Cluster 2 Samples\n",
            "- 2010 Fuck you this Epic Store. Borderlands 3 Made for PC and coming straight to Steam on March 13 disq. us / t / 3mi5yed\n",
            "- Like This is a fucking joke at this little point or when are they gonna implement an anti cheat? Fuck put that @Battleeye1 in or get somethin\n",
            "- Fuck your Epic Store. Borderlands 3 for PC coming to Steam Stores March 13 disq.us/t/3mi5yed\n",
            "- Full Offense If you bought Borderlands 3, fuck. Stop giving money to the greasy wizard\n",
            "- Fuck you Epic Store. Borderlands 3 for PC comes to Steam disq.us / t / 3mi5yed on March 13\n",
            "\n",
            "Cluster 3 Samples\n",
            "- Today sucked, so it's time to drink wine and play the border until the sun rises, so I can hate myself all day tomorrow.\n",
            "- Y’all stick with Mario Kart and Borderlands. Some shit where you don’t have to compete against someone else. Those are the main motherfuckers hating on me. People who play GTA or The Last Of Us.\n",
            "- @Borderlands I'm totally unable now to access any forums so I figured I would try here. When I'm in Boarderlands PS 3 if I turn over to the right so that characters who are speaking are on my left side I maybe cant hear on them all at quite all. This is on PS4. Is there some where you both can point for me to, to fix this?\n",
            "- for imma probably play some borderlands tps in a bit. that'yer ll be a fun\n",
            "- @ Borderlands I can't play borderlands 3 on my Xbox without it crashing can you fix this pls\n"
          ]
        }
      ]
    },
    {
      "cell_type": "code",
      "source": [
        "# Plotting cluster distribution\n",
        "plt.figure(figsize=(8, 6))\n",
        "sns.countplot(data=borderlands_df, x='Cluster', palette='viridis')\n",
        "plt.title('Distribution of Tweets Across K-Means Clusters')\n",
        "plt.xlabel('Cluster ID')\n",
        "plt.ylabel('Number of Tweets')\n",
        "plt.show()"
      ],
      "metadata": {
        "colab": {
          "base_uri": "https://localhost:8080/",
          "height": 669
        },
        "id": "IsFqhy3V6_DP",
        "outputId": "6116dbfa-8952-43b0-f8c2-7503a1eaab5f"
      },
      "execution_count": 47,
      "outputs": [
        {
          "output_type": "stream",
          "name": "stderr",
          "text": [
            "/tmp/ipython-input-47-1945319203.py:3: FutureWarning: \n",
            "\n",
            "Passing `palette` without assigning `hue` is deprecated and will be removed in v0.14.0. Assign the `x` variable to `hue` and set `legend=False` for the same effect.\n",
            "\n",
            "  sns.countplot(data=borderlands_df, x='Cluster', palette='viridis')\n"
          ]
        },
        {
          "output_type": "display_data",
          "data": {
            "text/plain": [
              "<Figure size 800x600 with 1 Axes>"
            ],
            "image/png": "[encoded data removed]"
          },
          "metadata": {}
        }
      ]
    },
    {
      "cell_type": "code",
      "source": [
        "svd = TruncatedSVD(n_components=2, random_state=42)\n",
        "# Apply SVD on the TF-IDF feature matrix (X_clustering)\n",
        "X_2D = svd.fit_transform(X_clustering)"
      ],
      "metadata": {
        "id": "m6VV8hQ5HrFg"
      },
      "execution_count": 68,
      "outputs": []
    },
    {
      "cell_type": "code",
      "source": [
        "print(f\"Shape of reduced 2D data: {X_2D.shape}\")"
      ],
      "metadata": {
        "colab": {
          "base_uri": "https://localhost:8080/"
        },
        "id": "77z3O-UrII15",
        "outputId": "673d03c4-f899-4878-ee9b-eec60f9ab64d"
      },
      "execution_count": 69,
      "outputs": [
        {
          "output_type": "stream",
          "name": "stdout",
          "text": [
            "Shape of reduced 2D data: (2039, 2)\n"
          ]
        }
      ]
    },
    {
      "cell_type": "code",
      "source": [
        "# Plot the reduced 2D data points, colored by cluster\n",
        "plt.figure(figsize=(10, 8))\n",
        "\n",
        "# Define colors for clusters. Using seaborn's palette for robustness with more clusters.\n",
        "palette = sns.color_palette(\"tab10\", num_clusters) # 'tab10' provides 10 distinct colors\n",
        "\n",
        "for i in range(num_clusters): # Iterate through the number of clusters\n",
        "    plt.scatter(\n",
        "        X_2D[borderlands_df[\"Cluster\"] == i, 0], # Select x-coordinates for current cluster\n",
        "        X_2D[borderlands_df[\"Cluster\"] == i, 1], # Select y-coordinates for current cluster\n",
        "        s=10, # Size of markers\n",
        "        c=[palette[i]], # Color for the current cluster\n",
        "        label=f\"Cluster {i}\", # Label for the legend\n",
        "        alpha=0.7 # Transparency\n",
        "    )\n",
        "\n",
        "plt.title(\"K-Means Clustering of Borderlands Tweets (2D SVD Projection)\")\n",
        "plt.xlabel(\"SVD Component 1\")\n",
        "plt.ylabel(\"SVD Component 2\")\n",
        "plt.legend(title=\"Cluster ID\")\n",
        "plt.grid(True)\n",
        "plt.show()"
      ],
      "metadata": {
        "colab": {
          "base_uri": "https://localhost:8080/",
          "height": 718
        },
        "id": "AqO5Q1IzIQ5g",
        "outputId": "06cf5cf6-8e70-4509-93e6-a8574a7a57b0"
      },
      "execution_count": 70,
      "outputs": [
        {
          "output_type": "display_data",
          "data": {
            "text/plain": [
              "<Figure size 1000x800 with 1 Axes>"
            ],
            "image/png": "[encoded data removed]"
          },
          "metadata": {}
        }
      ]
    }
  ]
}